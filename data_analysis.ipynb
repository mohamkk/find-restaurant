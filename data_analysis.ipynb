{
 "cells": [
  {
   "cell_type": "markdown",
   "metadata": {},
   "source": [
    "## 프로젝트 주제 : 맛집 탐방\n",
    "https://www.data.go.kr/data/15066516/fileData.do"
   ]
  },
  {
   "cell_type": "code",
   "execution_count": null,
   "metadata": {},
   "outputs": [],
   "source": [
    "from google.colab import drive\n",
    "drive.mount('/content/gdrive')"
   ]
  },
  {
   "cell_type": "code",
   "execution_count": null,
   "metadata": {},
   "outputs": [],
   "source": [
    "import numpy as np\n",
    "import pandas as pd\n",
    "import matplotlib.pyplot as plt\n",
    "import seaborn as sns"
   ]
  },
  {
   "cell_type": "code",
   "execution_count": null,
   "metadata": {},
   "outputs": [],
   "source": [
    "df = pd.read_csv(\"/content/gdrive/My Drive/모함ㅋ/용산구_맛집.csv\", encoding='cp949')  \n",
    "df.head(20)"
   ]
  },
  {
   "cell_type": "code",
   "execution_count": null,
   "metadata": {},
   "outputs": [],
   "source": [
    "import folium\n",
    "center = [37.541, 126.986]\n",
    "m = folium.Map(location=center, zoom_start=11, tiles=\"Stamenterrain\")\n",
    "\n",
    "m.add_child(folium.ClickForMarker()) # popup이 없으면 위도,경도 표시"
   ]
  },
  {
   "cell_type": "code",
   "execution_count": null,
   "metadata": {},
   "outputs": [],
   "source": [
    "# step1, step2 기능 구현\n",
    "from geopy.geocoders import Nominatim\n",
    "geo_local = Nominatim(user_agent='South Korea')\n",
    "# 위도, 경도 반환하는 함수\n",
    "def geocoding(address):\n",
    "    geo = geo_local.geocode(address)\n",
    "    x_y = [geo.latitude, geo.longitude]\n",
    "    return x_y\n",
    "\n",
    "    \n",
    "hyunho_address_name = input() #이태원동\n",
    "seoyoon_address_name = input() #우사단로4길\n",
    "\n",
    "# step 1\n",
    "hyunho_address = geocoding(hyunho_address_name) # [37.5270966, 127.0015525]\n",
    "seoyoon_address = geocoding(seoyoon_address_name) # [어쩌구,저쩌구]\n",
    "\n",
    "# step 2 : 중심 지점\n",
    "average_address = [(hyunho_address[0]+seoyoon_address[0])/2 , (hyunho_address[1]+seoyoon_address[1])/2]\n",
    "\n",
    "m = folium.Map(location = center, zoom_start=15)\n",
    "    \n",
    "#지도에 데이터 찍어서 보여주기\n",
    "folium.Marker(hyunho_address, tooltip=hyunho_address_name).add_to(m)\n",
    "folium.Marker(seoyoon_address, tooltip=seoyoon_address_name).add_to(m)\n",
    "folium.Marker(average_address, tooltip = '중심').add_to(m)\n",
    "\n",
    "# 거리 계산\n",
    "print(haversine(hyunho_address, seoyoon_address, unit = 'm'))\n",
    "m"
   ]
  },
  {
   "cell_type": "markdown",
   "metadata": {},
   "source": [
    "ㅇ# step3 : 중심지에서 가까운(100m 이내) 맛집 위치 찾기"
   ]
  },
  {
   "cell_type": "code",
   "execution_count": null,
   "metadata": {},
   "outputs": [],
   "source": [
    "# 중심지까지의 거리 구하기\n",
    "\n",
    "df2 = pd.DataFrame.copy(df)\n",
    "df2['중심지까지의 거리'] = None\n",
    "for i in range(len(df)):\n",
    "  lat = df.iloc[i,7]\n",
    "  lon = df.iloc[i,8]\n",
    "  dis = haversine([lat, lon], average_address, unit='m')\n",
    "  df2.iloc[i,10] = dis\n",
    "\n",
    "df2.head()"
   ]
  },
  {
   "cell_type": "code",
   "execution_count": null,
   "metadata": {},
   "outputs": [],
   "source": [
    "df2[df2['중심지까지의 거리'] < 100]"
   ]
  },
  {
   "cell_type": "code",
   "execution_count": null,
   "metadata": {},
   "outputs": [],
   "source": [
    "map = folium.Map(location = average_address, zoom_start=16)\n",
    "df_100 = df2[df2['중심지까지의 거리'] < 100]\n",
    "for i in df_100.index:\n",
    "    sub_lat =  df_100.loc[i,'위도']\n",
    "    sub_long = df_100.loc[i,'경도']\n",
    "    \n",
    "    title = df_100.loc[i,'업소명']\n",
    "    menu = df_100.loc[i, '주요요리']\n",
    "    \n",
    "    #지도에 데이터 찍어서 보여주기\n",
    "    folium.Marker([sub_lat,sub_long],tooltip = title, popup = menu).add_to(map)\n",
    "    # folium.Marker([sub_lat,sub_long], popup = menu).add_to(map)\n",
    "\n",
    "folium.Marker(hyunho_address,tooltip = hyunho_address_name, icon=folium.Icon(icon = \"info-sign\",color = \"red\")).add_to(map)\n",
    "folium.Marker(seoyoon_address,tooltip = seoyoon_address_name, icon=folium.Icon(icon = \"info-sign\",color = \"red\")).add_to(map)\n",
    "folium.Marker(average_address,tooltip = '중심',icon=folium.Icon(icon = \"cloud\",color = \"green\")).add_to(map)\n",
    "# folium.Marker(hyunho_address,icon=folium.Icon(icon = \"info-sign\",color = \"red\")).add_to(map)\n",
    "# folium.Marker(seoyoon_address,icon=folium.Icon(icon = \"info-sign\",color = \"red\")).add_to(map)\n",
    "# folium.Marker(average_address,icon=folium.Icon(icon = \"cloud\",color = \"green\")).add_to(map)\n",
    "\n",
    "# Circle = 미터단위 /  CircleMarker = 픽셀단위(확대, 축소를 해도 원의 크기가 비율에 맞춰 일정하게유지)\n",
    "folium.Circle(location=average_address, radius=100, color=\"blue\", fill=True).add_to(map)\n",
    "\n",
    "map"
   ]
  },
  {
   "cell_type": "code",
   "execution_count": null,
   "metadata": {},
   "outputs": [],
   "source": []
  }
 ],
 "metadata": {
  "interpreter": {
   "hash": "74d2343ad4dff75b49c0a429738c89574287364f8aa457c8c162112606763eec"
  },
  "kernelspec": {
   "display_name": "Python 3.8.3 64-bit ('base': conda)",
   "language": "python",
   "name": "python3"
  },
  "language_info": {
   "codemirror_mode": {
    "name": "ipython",
    "version": 3
   },
   "file_extension": ".py",
   "mimetype": "text/x-python",
   "name": "python",
   "nbconvert_exporter": "python",
   "pygments_lexer": "ipython3",
   "version": "3.8.3"
  },
  "orig_nbformat": 4
 },
 "nbformat": 4,
 "nbformat_minor": 2
}
